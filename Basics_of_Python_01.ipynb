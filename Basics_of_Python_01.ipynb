{
  "cells": [
    {
      "cell_type": "markdown",
      "metadata": {
        "id": "view-in-github",
        "colab_type": "text"
      },
      "source": [
        "<a href=\"https://colab.research.google.com/github/saadatjalil281/Basic-Python-Concepts/blob/main/Basics_of_Python_01.ipynb\" target=\"_parent\"><img src=\"https://colab.research.google.com/assets/colab-badge.svg\" alt=\"Open In Colab\"/></a>"
      ]
    },
    {
      "cell_type": "markdown",
      "metadata": {
        "id": "I2XkVi77SuF6"
      },
      "source": [
        "#Solve the Tasks:"
      ]
    },
    {
      "cell_type": "markdown",
      "metadata": {
        "id": "ChnU8tmyTjJA"
      },
      "source": [
        "###1) Create a List named fruits containing threee different fruits and display its item using for loop:\n",
        "\n"
      ]
    },
    {
      "cell_type": "code",
      "execution_count": null,
      "metadata": {
        "colab": {
          "base_uri": "https://localhost:8080/"
        },
        "id": "0KnZA6ylUBe7",
        "outputId": "377b8be6-9d15-4c3d-f6ce-2c33f91c6913"
      },
      "outputs": [
        {
          "name": "stdout",
          "output_type": "stream",
          "text": [
            "\t\u001b[1mFruits Item List:\u001b[0m\n",
            "-------------------------------\n",
            "1)Apple\n",
            "2)Banana\n",
            "3)Cherrry\n",
            "4)Orange\n",
            "5)Kiwi\n"
          ]
        }
      ],
      "source": [
        "fruits = [\"Apple\", \"Banana\", \"Cherrry\", \"Orange\", \"Kiwi\"]\n",
        "print(\"\\t\\033[1mFruits Item List:\\033[0m\")\n",
        "print(\"-------------------------------\")\n",
        "\n",
        "for index, item in enumerate (fruits, start = 1):\n",
        "  print(f\"{index}){item}\")"
      ]
    },
    {
      "cell_type": "markdown",
      "metadata": {
        "id": "OCSbzLpAXKIt"
      },
      "source": [
        "###2)Create a **tuple** named \"**numbers**\" with **five random numbers** and display its item using **for loop**:\n"
      ]
    },
    {
      "cell_type": "code",
      "execution_count": null,
      "metadata": {
        "colab": {
          "base_uri": "https://localhost:8080/"
        },
        "id": "Ba_pfsMmSjGv",
        "outputId": "377c130c-7078-49c8-a5f4-1d4f25a6c7f5"
      },
      "outputs": [
        {
          "name": "stdout",
          "output_type": "stream",
          "text": [
            "\t\u001b[1mFive Random Numbers:\u001b[0m\n",
            "--------------------------------\n",
            "25\n",
            "10\n",
            "28\n",
            "13\n",
            "53\n"
          ]
        }
      ],
      "source": [
        "import random\n",
        "\n",
        "numbers = tuple(random.sample(range(1, 55),5))\n",
        "print(\"\\t\\033[1mFive Random Numbers:\\033[0m\")\n",
        "print(\"--------------------------------\")\n",
        "\n",
        "for i in numbers:\n",
        "  print(i)"
      ]
    },
    {
      "cell_type": "markdown",
      "metadata": {
        "id": "Hc45_7IfZita"
      },
      "source": [
        "###3) Create a **set** named \"**colors**\" with  different **colors** and display its item using **for loop**:"
      ]
    },
    {
      "cell_type": "code",
      "execution_count": 9,
      "metadata": {
        "colab": {
          "base_uri": "https://localhost:8080/"
        },
        "id": "D3HTCgSdZ9or",
        "outputId": "18c6d617-a697-4503-ea1f-6dec26ec9c7d"
      },
      "outputs": [
        {
          "output_type": "stream",
          "name": "stdout",
          "text": [
            "\t\u001b[1mColors List:\u001b[0m\n",
            "----------------------------\n",
            "0) Yellow\n",
            "1) White\n",
            "2) Black\n",
            "3) Red\n",
            "4) Green\n"
          ]
        }
      ],
      "source": [
        "colors = {\"Black\", \"Red\", \"Green\", \"White\", \"Yellow\"}\n",
        "\n",
        "print(\"\\t\\033[1mColors List:\\033[0m\")\n",
        "print(\"----------------------------\")\n",
        "\n",
        "for index, color in enumerate(colors):\n",
        "  print(f\"{index}) {color}\")\n",
        "\n"
      ]
    },
    {
      "cell_type": "markdown",
      "source": [
        "### 4) Create a **`dictionary`** named \"**student**\" with the following **key-value pairs**:\n",
        "    \n",
        "  - \"name\" as the key and the student's name as the value.\n",
        "  - \"age\" as the key and the student's age as the value.\n",
        "  - \"grade\" as the key and the student's grade as the value.\n",
        "  - Iterate over the dictionary using the for loop and display its keys\n",
        "  - Iterate over the dictionary using the for loop and display its values\n"
      ],
      "metadata": {
        "id": "bPUriEIWh4gz"
      }
    },
    {
      "cell_type": "code",
      "source": [
        "student = {\n",
        "    \"name\" : \"Ali\",\n",
        "    \"age\" : \"23\",\n",
        "    \"grade\" : \"A\"\n",
        "}\n",
        "print(\"\\t\\033[1mShow the Student dictionary Keys:\\033[0m\")\n",
        "print(\"---------------------------------------------------\")\n",
        "for key in student.keys():\n",
        "    print(key)\n",
        "\n",
        "print(\"\\t\\033[1mShow the Student dictionary Value:\\033[0m\")\n",
        "print(\"---------------------------------------------------\")\n",
        "for Value in student.values():\n",
        "    print(Value)"
      ],
      "metadata": {
        "colab": {
          "base_uri": "https://localhost:8080/"
        },
        "id": "st46gsMMiVBz",
        "outputId": "96e1d898-a269-4d33-b362-631feeb5514f"
      },
      "execution_count": 11,
      "outputs": [
        {
          "output_type": "stream",
          "name": "stdout",
          "text": [
            "\t\u001b[1mShow the Student dictionary Keys:\u001b[0m\n",
            "---------------------------------------------------\n",
            "name\n",
            "age\n",
            "grade\n",
            "\t\u001b[1mShow the Student dictionary Value:\u001b[0m\n",
            "---------------------------------------------------\n",
            "Ali\n",
            "23\n",
            "A\n"
          ]
        }
      ]
    },
    {
      "cell_type": "markdown",
      "source": [
        "### 5) Create a **multi-line string** named \"**poem**\" with a short poem of your choice:"
      ],
      "metadata": {
        "id": "wdESJFNCijCU"
      }
    },
    {
      "cell_type": "code",
      "source": [
        "poem = \"\"\"---------------------------------------\n",
        "\\t\\033[1mChild’s Song In Spring\\033[0m\n",
        "---------------------------------------\\n\n",
        "The silver birch is a dainty lady,\n",
        "\\t\\tShe wears a satin gown;\n",
        "The elm tree makes the old churchyard shady,\n",
        "\\t\\tShe will not live in town.\\n\n",
        "The English oak is a sturdy fellow,\n",
        "\\t\\tHe gets his green coat late;\n",
        "The willow is smart in a suit of yellow,\n",
        "\\t\\tWhile brown the beech trees wait.\\n\n",
        "Such a gay green gown God gives the larches\n",
        "\\t\\tAs green as He is good!\n",
        "The hazels hold up their arms for arches,\n",
        "\\t\\tWhen Spring rides through the wood.\\n\n",
        "The chestnut’s proud and the lilac’s pretty,\n",
        "\\t\\tThe poplar’s gentle and tall,\n",
        "But the plane tree’s kind to the poor dull city\n",
        "\\t\\tI love him best of all! \"\"\"\n",
        "\n",
        "print(poem)"
      ],
      "metadata": {
        "colab": {
          "base_uri": "https://localhost:8080/"
        },
        "id": "8uoIGPfliy2i",
        "outputId": "17653eac-7fe9-4bf6-8945-60b759898b97"
      },
      "execution_count": 12,
      "outputs": [
        {
          "output_type": "stream",
          "name": "stdout",
          "text": [
            "---------------------------------------\n",
            "\t\u001b[1mChild’s Song In Spring\u001b[0m\n",
            "---------------------------------------\n",
            "\n",
            "The silver birch is a dainty lady,\n",
            "\t\tShe wears a satin gown;\n",
            "The elm tree makes the old churchyard shady,\n",
            "\t\tShe will not live in town.\n",
            "\n",
            "The English oak is a sturdy fellow,\n",
            "\t\tHe gets his green coat late;\n",
            "The willow is smart in a suit of yellow,\n",
            "\t\tWhile brown the beech trees wait.\n",
            "\n",
            "Such a gay green gown God gives the larches\n",
            "\t\tAs green as He is good!\n",
            "The hazels hold up their arms for arches,\n",
            "\t\tWhen Spring rides through the wood.\n",
            "\n",
            "The chestnut’s proud and the lilac’s pretty,\n",
            "\t\tThe poplar’s gentle and tall,\n",
            "But the plane tree’s kind to the poor dull city\n",
            "\t\tI love him best of all! \n"
          ]
        }
      ]
    },
    {
      "cell_type": "markdown",
      "metadata": {
        "id": "S0rNG3L3bY3r"
      },
      "source": [
        "\n",
        "##6) Write an **if statement** to  check if the length of the \"**fruits**\" list is greater than 3. if it is, print\"**You have many fruits!**\"."
      ]
    },
    {
      "cell_type": "code",
      "execution_count": 1,
      "metadata": {
        "id": "ZZ5D-IjJbJYA",
        "colab": {
          "base_uri": "https://localhost:8080/"
        },
        "outputId": "3f26b8bc-6e7c-4e0f-baca-dd1ab53c9a91"
      },
      "outputs": [
        {
          "output_type": "stream",
          "name": "stdout",
          "text": [
            "\t\u001b[1mCheck the Length of the fruits List:\u001b[0m\n",
            "----------------------------------------------------\n",
            "You have many fruits!\n"
          ]
        }
      ],
      "source": [
        "fruits = [\"Apple\", \"Banana\", \"Cherry\", \"Orange\", \"Mango\"]\n",
        "print(\"\\t\\033[1mCheck the Length of the fruits List:\\033[0m\")\n",
        "print(\"----------------------------------------------------\")\n",
        "\n",
        "if len(fruits) > 3:\n",
        "  print(\"You have many fruits!\")\n",
        "else:\n",
        "  print(\"you have few fruits....\")"
      ]
    },
    {
      "cell_type": "markdown",
      "source": [
        "### 7) Create a program that takes a **student's numerical grade** as input and prins a corresspounding letter grade. Use **if-else statements** to  classify the grade into categories such as ** \"A\", \"B\", \"C\", \"D\" or \"F\"**bold text**"
      ],
      "metadata": {
        "id": "SZwy7HHX1SRt"
      }
    },
    {
      "cell_type": "code",
      "source": [
        "print(\"\\t\\033[1mEnter the marks and check the Studnet's Grade:\\033[0m\")\n",
        "print(\"-------------------------------------------------------------\")\n",
        "\n",
        "student_numerical_grade = float(input(\"Enter the student's Marks\"))\n",
        "print(f\"Student's Marks: {student_numerical_grade}.\")\n",
        "\n",
        "if student_numerical_grade >= 90:\n",
        "   grade = \"A\"\n",
        "elif 80<= student_numerical_grade >= 89:\n",
        "   grade = \"B\"\n",
        "elif 70<= student_numerical_grade >= 79:\n",
        "   grade = \"C\"\n",
        "elif 60<= student_numerical_grade >= 69:\n",
        "   grade = \"D\"\n",
        "else:\n",
        "   grade = \"F\"\n",
        "\n",
        "print(f\"Student's Grade: '{grade}'.\")"
      ],
      "metadata": {
        "id": "1srAEf932BW2",
        "outputId": "668bbddd-5b9f-4c93-bd5c-80fa8bbc0836",
        "colab": {
          "base_uri": "https://localhost:8080/"
        }
      },
      "execution_count": 5,
      "outputs": [
        {
          "output_type": "stream",
          "name": "stdout",
          "text": [
            "\t\u001b[1mEnter the marks and check the Studnet's Grade:\u001b[0m\n",
            "-------------------------------------------------------------\n",
            "Enter the student's Marks70.5\n",
            "Student's Marks: 70.5.\n",
            "Student's Grade: 'D'.\n"
          ]
        }
      ]
    },
    {
      "cell_type": "markdown",
      "source": [
        "##3 8) Create a program that takes a **temperture** in **Celsius** as input form **user and  classifies** it into categories like **\"Freezing\", \"Cold\", \"Moderate\", \"Warm\" or \"Hot\".** Use **if-else statements** to define the **temperture ranges** for each category.\n",
        "* If the temperture is below -10 degrees Celsius, it's classified as \"Freezing.\"\n",
        "*If the temperture is between -10 and 0 degrees Celsius(exclusive), it's classified as \"Cold.\"\n",
        "* If the temperture is between 0 and 20 degree Celsius it's classified as \"Moderate\"\n",
        "* if temperture is between 20 to 30 degree Celsius it's Classified as\n",
        "\" Warm\"\n",
        "* if temperture is 30 degree celsius or above it's  classified as \"Hot\".\n"
      ],
      "metadata": {
        "id": "bwl5Hkco4cR9"
      }
    },
    {
      "cell_type": "code",
      "source": [
        "print(\"\\t\\033[1mEnter Temperture in Celsius:\\033[0m\")\n",
        "temperture_in_Celsius = float(input(\"Enter the Temperture in Celsius:\"))\n",
        "print(f\"Temperture in Celsius: {temperture_in_Celsius} degrees Celsius.\")\n",
        "\n",
        "if temperture_in_Celsius < -10:\n",
        "   category = \"Freezing\"\n",
        "elif -10 <= temperture_in_Celsius < 0:\n",
        "    category = \"Cold\"\n",
        "elif 0 <= temperture_in_Celsius < 20:\n",
        "    category = \"Moderate\"\n",
        "elif 20 <= temperture_in_Celsius < 30:\n",
        "    category = \"Warm\"\n",
        "else:\n",
        "    category = \"Hot\"\n",
        "print(f\"It's {category}.\")"
      ],
      "metadata": {
        "id": "Rk7iPiCZ6gfH",
        "outputId": "17d23955-4ad0-4a2b-e3d9-8f9be8cac084",
        "colab": {
          "base_uri": "https://localhost:8080/"
        }
      },
      "execution_count": 10,
      "outputs": [
        {
          "output_type": "stream",
          "name": "stdout",
          "text": [
            "\t\u001b[1mEnter Temperture in Celsius:\u001b[0m\n",
            "Enter the Temperture in Celsius:40\n",
            "Temperture in Celsius: 40.0 degrees Celsius.\n",
            "It's Hot.\n"
          ]
        }
      ]
    },
    {
      "cell_type": "code",
      "source": [],
      "metadata": {
        "id": "zmId2Fug8H-y"
      },
      "execution_count": null,
      "outputs": []
    }
  ],
  "metadata": {
    "colab": {
      "provenance": [],
      "authorship_tag": "ABX9TyOzIvnugTAf/Jx4EtVgtcLj",
      "include_colab_link": true
    },
    "kernelspec": {
      "display_name": "Python 3",
      "name": "python3"
    },
    "language_info": {
      "name": "python"
    }
  },
  "nbformat": 4,
  "nbformat_minor": 0
}