{
  "nbformat": 4,
  "nbformat_minor": 0,
  "metadata": {
    "colab": {
      "provenance": [],
      "authorship_tag": "ABX9TyOFSCDlv4hq2ieTrKeIf4mA",
      "include_colab_link": true
    },
    "kernelspec": {
      "name": "python3",
      "display_name": "Python 3"
    },
    "language_info": {
      "name": "python"
    }
  },
  "cells": [
    {
      "cell_type": "markdown",
      "metadata": {
        "id": "view-in-github",
        "colab_type": "text"
      },
      "source": [
        "<a href=\"https://colab.research.google.com/github/saadatjalil281/Basic-Python-Concepts/blob/main/Basics_of_python_02.ipynb\" target=\"_parent\"><img src=\"https://colab.research.google.com/assets/colab-badge.svg\" alt=\"Open In Colab\"/></a>"
      ]
    },
    {
      "cell_type": "markdown",
      "source": [
        "# Solve the Tasks:"
      ],
      "metadata": {
        "id": "zFLyFL0EAtqv"
      }
    },
    {
      "cell_type": "markdown",
      "source": [
        "### 1) Write a program that takes a **string** as **input** and counts the number of **vowels** and consonants in the **string**.\n",
        "\n",
        "* Input: Any String\n",
        "* Output:\n",
        "   * Number of vowels: 3\n",
        "   * Number of consonants: 7"
      ],
      "metadata": {
        "id": "jPq71ZMeA9ug"
      }
    },
    {
      "cell_type": "code",
      "execution_count": null,
      "metadata": {
        "colab": {
          "base_uri": "https://localhost:8080/"
        },
        "id": "v_0EbnSQAiZy",
        "outputId": "84ba239f-d0f7-4e33-c45a-8394cbb42d84"
      },
      "outputs": [
        {
          "output_type": "stream",
          "name": "stdout",
          "text": [
            "Enter a string: Kashmir is Heaven on Earth\n",
            "String is: Kashmir is Heaven on Earth\n",
            "Number of Vowels:  9\n",
            "Number of Consonants:  13\n"
          ]
        }
      ],
      "source": [
        "def count_vowels_consonants(input_str):\n",
        "  vowels = \"aeiouAEIOU\"\n",
        "  vowel_count = 0\n",
        "  consonant_count = 0\n",
        "\n",
        "  for  char in input_str:\n",
        "    if char.isalpha():\n",
        "      if  char in vowels:\n",
        "        vowel_count += 1\n",
        "      else:\n",
        "          consonant_count += 1\n",
        "\n",
        "\n",
        "  print(\"Number of Vowels: \", vowel_count)\n",
        "  print(\"Number of Consonants: \", consonant_count)\n",
        "\n",
        "\n",
        "# Take input form ther user\n",
        "input_str = input(\"Enter a string: \")\n",
        "print(\"String is:\", input_str)\n",
        "\n",
        "# Call the function to count vowels and consonants\n",
        "count_vowels_consonants(input_str)\n"
      ]
    },
    {
      "cell_type": "markdown",
      "source": [
        "### 02) Write a progam that a accepts a **filename** form the **user** and **print** the **extension** of the **file**.\n",
        "* Sample filename: document.docx\n",
        "* Output: docx"
      ],
      "metadata": {
        "id": "fdFuT8yrErtU"
      }
    },
    {
      "cell_type": "code",
      "source": [
        "def get_file_extension(filename):\n",
        "    # Split the filename into part using dot as a separator\n",
        "    parts = filename.split('.')\n",
        "\n",
        "    # Check if there is at least one dot in the filename\n",
        "    if  len(parts) > 1:\n",
        "        # The Last part after the last dot is the file extension\n",
        "        extension =  parts[-1]\n",
        "        print(\"File Extension:\", extension)\n",
        "    else:\n",
        "        print(\"No file extension found.\")\n",
        "\n",
        "# Take input from the user\n",
        "filename = input(\"Enter a filename: \")\n",
        "print(\"File Name is: \",filename)\n",
        "\n",
        "# Call the function to get and print the file extension\n",
        "get_file_extension(filename)"
      ],
      "metadata": {
        "colab": {
          "base_uri": "https://localhost:8080/"
        },
        "id": "uPjSfUs3PF5a",
        "outputId": "9e37946d-7326-4d6e-8f9e-aecb7e1b63d2"
      },
      "execution_count": null,
      "outputs": [
        {
          "output_type": "stream",
          "name": "stdout",
          "text": [
            "Enter a filename: Urdu.docx\n",
            "File Name is:  Urdu.docx\n",
            "File Extension: docx\n"
          ]
        }
      ]
    },
    {
      "cell_type": "markdown",
      "source": [
        "### 03) Write a python program to check if value **200** exists in the following **dictionary**\n",
        "   * Sample_dict = {'a': 100, 'b': 200, 'c': 300}"
      ],
      "metadata": {
        "id": "1vkEShjDPfJF"
      }
    },
    {
      "cell_type": "code",
      "source": [
        "sample_dict = {\"a\": 100, \"b\": 200, \"c\" : 300}\n",
        "check_value = 200\n",
        "\n",
        "print(\"Sample Dictionary:\", sample_dict)\n",
        "if check_value in sample_dict.values():\n",
        "  print(f\"The value {check_value} is present in the dictionary.\")\n",
        "else:\n",
        "  print(f\"The value {check_value} is not present in the dictionary.\")\n"
      ],
      "metadata": {
        "colab": {
          "base_uri": "https://localhost:8080/"
        },
        "id": "Hjl-GZDePTmC",
        "outputId": "f73c0237-854f-4061-cc1d-0edaba5c6f7c"
      },
      "execution_count": null,
      "outputs": [
        {
          "output_type": "stream",
          "name": "stdout",
          "text": [
            "Sample Dictionary: {'a': 100, 'b': 200, 'c': 300}\n",
            "The value 200 is present in the dictionary.\n"
          ]
        }
      ]
    },
    {
      "cell_type": "markdown",
      "source": [
        "### b) Write a program that takes input **value** form user and check it exists or not."
      ],
      "metadata": {
        "id": "ViRBC_lyTscO"
      }
    },
    {
      "cell_type": "code",
      "source": [
        "dictionary = {\"Name\" : \"Saadat Malik\", \"Age\" : \"23\", \"Gender\" : \"Male\"}\n",
        "check_value = input(\"Enter a value to check:\")\n",
        "print(\"Dictionary:\" , dictionary)\n",
        "if check_value in dictionary.values():\n",
        "  print(f\"The value {check_value} is exists in the dictionary.\")\n",
        "else:\n",
        "  print(f\"The value is not exist in the dictionary.\")\n",
        "\n",
        "#Check Key\n",
        "check_key = input(\"Enter a key to check:\")\n",
        "print(\"Dictionary:\", dictionary)\n",
        "if check_key in dictionary.keys():\n",
        "  print(f\"The key{check-key} is exists in the dictionary\")\n",
        "else:\n",
        "  print(\"The key is not exists.\")"
      ],
      "metadata": {
        "colab": {
          "base_uri": "https://localhost:8080/"
        },
        "id": "frdTFH4-SnG9",
        "outputId": "3f1c861a-5505-4b62-b6a8-9ed218f76bcd"
      },
      "execution_count": null,
      "outputs": [
        {
          "output_type": "stream",
          "name": "stdout",
          "text": [
            "Enter a value to check:23\n",
            "Dictionary: {'Name': 'Saadat Malik', 'Age': '23', 'Gender': 'Male'}\n",
            "The value 23 is exists in the dictionary.\n",
            "Enter a key to check:age\n",
            "Dictionary: {'Name': 'Saadat Malik', 'Age': '23', 'Gender': 'Male'}\n",
            "The key is not exists.\n"
          ]
        }
      ]
    },
    {
      "cell_type": "markdown",
      "source": [
        "### 04) the given **tuple** is a **nested tuple**. Write a python program to **print** the **value 20**.\n",
        "*  tuple 1 = (\"Orange,[10,20,30],(5, 15, 25))"
      ],
      "metadata": {
        "id": "ZNKLKdEaYoj4"
      }
    },
    {
      "cell_type": "code",
      "source": [
        "tuple1 = (\"Orange\", [10, 20, 30], (5, 15, 25))\n",
        "print(\"Tuple1 is: \",tuple1)\n",
        "# accessing the second element of the list inside the tuple\n",
        "value_20 = tuple1[1][1]\n",
        "print(f\"The value 20 is, {value_20} in the Tuple\")\n",
        "print(\"---------------------------------------------------\")\n",
        "\n",
        "tuple2 = (\"Apple\", [40, 50, 60 , 70], (15, 25, 35, 45))\n",
        "print(\"Tuple2 is: \", tuple2)\n",
        "# Accessing Element\n",
        "value = tuple2[0][0:5]\n",
        "print(f\"The value is, {value} in the tuple\")\n"
      ],
      "metadata": {
        "colab": {
          "base_uri": "https://localhost:8080/"
        },
        "id": "X9QVcjnhUOGZ",
        "outputId": "ef234692-eb6e-4a56-c94b-8cd7c7d8afa2"
      },
      "execution_count": null,
      "outputs": [
        {
          "output_type": "stream",
          "name": "stdout",
          "text": [
            "Tuple1 is:  ('Orange', [10, 20, 30], (5, 15, 25))\n",
            "The value 20 is, 20 in the Tuple\n",
            "---------------------------------------------------\n",
            "Tuple2 is:  ('Apple', [40, 50, 60, 70], (15, 25, 35, 45))\n",
            "The value is, Apple in the tuple\n"
          ]
        }
      ]
    },
    {
      "cell_type": "markdown",
      "source": [
        "### 05) Wrie a python program that calculates the **Body Mass Index (BMI)** for a person based on their **wieghts (in kilogram)** and **hieght (in meters)**. The **BMI** is calculated using the following formula:\n",
        "* BMI = (weight)/(height^2)\n",
        "* **Instructions**:\n",
        "   * Prompt the **user** to **enter** their **weight** in **kilogram**.\n",
        "   * Prompt the **user** to **enter** their **hieght** in **meters**.\n",
        "   * Calulate the **BMI** using the provided formula.\n",
        "   * Display the Calculated **BMI** to the user.\n",
        "* **Additionally**, provide and interpretation of the BMI according to the following categories:\n",
        "  * BMI < 18.5: Underweight\n",
        "  * 18.5: <= BMI < 25: Normal weight\n",
        "  * 25 <= BMI < 30: Overweight\n",
        "  * BMI >= 30: Obese\n"
      ],
      "metadata": {
        "id": "OHI_etjBemiK"
      }
    },
    {
      "cell_type": "code",
      "source": [
        "# prompt the user to enter weight in kilograms.\n",
        "weight = float (input(\"Enter your weight in kilograms:\"))\n",
        "\n",
        "# prompt the user to enter height in meters\n",
        "height = float (input(\"Enter your height in meters:\"))\n",
        "\n",
        "# Calculate the BMI using provided formula\n",
        "BMI = (weight) / (height**2)\n",
        "\n",
        "#BMI Category\n",
        "if BMI < 18.5:\n",
        "  category = \"Under Weight\"\n",
        "elif 18.5 <= BMI < 25:\n",
        "  category = \"Normal Weight\"\n",
        "elif 25 <= BMI < 30:\n",
        "  category = \"Over Weight\"\n",
        "else:\n",
        "  category = \"Obese\"\n",
        "\n",
        "# print Wieght and Height:\n",
        "print(\"Weight is: \", weight)\n",
        "print(\"Hieght is: \", height)\n",
        "# Display the BMI & Category:\n",
        "print(\"Your BMI is: \", BMI)\n",
        "print(\"Category:\", category)\n"
      ],
      "metadata": {
        "colab": {
          "base_uri": "https://localhost:8080/"
        },
        "id": "FvKbc1tsaAag",
        "outputId": "379f2fc5-b1fb-40de-a03e-e2be175d3cea"
      },
      "execution_count": null,
      "outputs": [
        {
          "output_type": "stream",
          "name": "stdout",
          "text": [
            "Enter your weight in kilograms:70\n",
            "Enter your height in meters:1.8\n",
            "Weight is:  70.0\n",
            "Hieght is:  1.8\n",
            "Your BMI is:  21.604938271604937\n",
            "Category: Normal Weight\n"
          ]
        }
      ]
    },
    {
      "cell_type": "markdown",
      "source": [
        "### 06) Write a program that prompts the **user** to **input** a string. The program should **count the frequency** of each **character** in the **string** and then print the result as a **dictionary**."
      ],
      "metadata": {
        "id": "yIHEqMwzlyIl"
      }
    },
    {
      "cell_type": "code",
      "source": [
        "# Prompt user for input string:\n",
        "input_string = input(\"Enter a string: \")\n",
        "print(\"String is: \", input_string)\n",
        "\n",
        "# Initialize and empty dictionary to store character frequencies:\n",
        "char_frequencies = {}\n",
        "\n",
        "# Count the frequency of each character in the input string:\n",
        "for char in input_string:\n",
        "# increment the count if the character is already in the dictioanry, otherwise, initialize it to 1:\n",
        "    char_frequencies[char] = char_frequencies.get(char, 0) + 1\n",
        "\n",
        "# print the result as a dictioary:\n",
        "print(\"Character Frequencies:\", char_frequencies)"
      ],
      "metadata": {
        "colab": {
          "base_uri": "https://localhost:8080/"
        },
        "id": "pB0L31zdjw4M",
        "outputId": "6095252f-a895-4bf3-f7cb-797362b00f9c"
      },
      "execution_count": null,
      "outputs": [
        {
          "output_type": "stream",
          "name": "stdout",
          "text": [
            "Enter a string: python is an easy language\n",
            "String is:  python is an easy language\n",
            "Character Frequencies: {'p': 1, 'y': 2, 't': 1, 'h': 1, 'o': 1, 'n': 3, ' ': 4, 'i': 1, 's': 2, 'a': 4, 'e': 2, 'l': 1, 'g': 2, 'u': 1}\n"
          ]
        }
      ]
    },
    {
      "cell_type": "markdown",
      "source": [
        "### 07) Write a python program that takes a **string input** from the **user** and **check** if it is a **\"Vallid email address\"**, otherwise print **\"Invalid email address\"**.\n",
        "* **Hint:** Check if the string contains **\"@\"** and ends with **\".net\"**, or **\".com\"** to **\"check validity\"**.\n",
        "* **Example:** If the **email** is **\"abc@example.com\"**, then it is a **valid email**, otherwise an **Invalid email**.\n"
      ],
      "metadata": {
        "id": "N6i8BAJJv-EG"
      }
    },
    {
      "cell_type": "code",
      "source": [
        "def is_valid_email(email):\n",
        "  # check if the string contain \"@\" and ends with \".net\" or \".com\":\n",
        "   if \"@\" in email and (email.endswith(\".net\") or email.endswith(\".com\")):\n",
        "    return True\n",
        "   else:\n",
        "    return False\n",
        "\n",
        "# Prompt user for input email:\n",
        "email_input = input(\"Enter your Email Address: \")\n",
        "\n",
        "\n",
        "# Check if the email is valid  and print the result:\n",
        "if is_valid_email(email_input):\n",
        "   print(f\"Valid Email: {email_input} is Valid Email Address.\")\n",
        "else:\n",
        "  print(f\"Sorry, Your Email: {email_input} is Invalid Email Address.\")"
      ],
      "metadata": {
        "id": "doq_FDNap4kD",
        "colab": {
          "base_uri": "https://localhost:8080/"
        },
        "outputId": "914f96f4-7970-4e07-ea32-3f0af3ad9106"
      },
      "execution_count": null,
      "outputs": [
        {
          "output_type": "stream",
          "name": "stdout",
          "text": [
            "Enter your Email Address: saadatmalik232@gmail.com\n",
            "Valid Email: saadatmalik232@gmail.com is Valid Email Address.\n"
          ]
        }
      ]
    },
    {
      "cell_type": "markdown",
      "source": [
        "### (b)\n",
        "*  The email must contain at least one letter.\n",
        "* The email must contain at least one digit.\n",
        "* The email must contain the @ symbol.\n",
        "* The email must contain either \"gmail\" or \"email\" as part of the domain.\n",
        "* The email must end with .net or .com."
      ],
      "metadata": {
        "id": "MjlwADCI9GL_"
      }
    },
    {
      "cell_type": "code",
      "source": [
        "def is_valid_email(email):\n",
        "  #check if \"@\" is present in the email:\n",
        "  if \"@\" not in email:\n",
        "    return False\n",
        "  # Split the email into local and domain part\n",
        "  local_part, domain_part = email.split(\"@\" , 1)\n",
        "\n",
        "  # Check if the local part contain at least one letter and one digit\n",
        "  if not any(char.isalpha() for char in local_part):\n",
        "    return False\n",
        "  if  not any (char.isdigit()for char in local_part):\n",
        "    return False\n",
        "    # Check if the domain contain \"gamil\" or \"email\"\n",
        "  if \"gmail\" not in domain_part and \"email\" not in domain_part:\n",
        "    return False\n",
        "\n",
        "    #Check if the email endswith \".net\" or \".com\"\n",
        "  if not (domain_part.endswith(\".net\") or domain_part.endswith(\".com\")):\n",
        "    return False\n",
        "  # If all conditions are satisfied\n",
        "  return True\n",
        "\n",
        "  #prompt user for input email:\n",
        "email_input = input(\"Enter your Email Address: \")\n",
        "\n",
        "  # Check if the email is valid and print the result:\n",
        "if is_valid_email(email_input):\n",
        "    print(f\"Valid Email: {email_input} is Valid Email Address.\")\n",
        "else:\n",
        "    print(f\"Sorry, Your Email: {email_input} is Invalid Email Address.\")"
      ],
      "metadata": {
        "colab": {
          "base_uri": "https://localhost:8080/"
        },
        "id": "nj4okF3S5uYH",
        "outputId": "aa4dcbfb-91e5-46cb-e71d-09e43a0f4539"
      },
      "execution_count": null,
      "outputs": [
        {
          "output_type": "stream",
          "name": "stdout",
          "text": [
            "Enter your Email Address: saadat122@email.net\n",
            "Valid Email: saadat122@email.net is Valid Email Address.\n"
          ]
        }
      ]
    },
    {
      "cell_type": "markdown",
      "source": [
        "### 08) Given a **tuple** of tuples, write a python program to print the **sum of the elements** in each **inner tuple**.\n",
        "   *  **Input:** ((1,2,3),(4,5,6),(7,8,9))\n",
        "   * **Output:** 6,15,24\n",
        "   "
      ],
      "metadata": {
        "id": "5ZbRqYfaCpzF"
      }
    },
    {
      "cell_type": "code",
      "source": [
        "# Given tuple of tuples:\n",
        "tuple_of_tuples = ((1,2,3),(4,5,6),(7,8,9))\n",
        "\n",
        "# Calculate and print the sum of elements in each inner tuple:\n",
        "for inner_tuple in tuple_of_tuples:\n",
        "  sum_of_elements = sum(inner_tuple)\n",
        "  print(f\"Sum of elements in {inner_tuple} is: {sum_of_elements}\")\n"
      ],
      "metadata": {
        "colab": {
          "base_uri": "https://localhost:8080/"
        },
        "id": "8tNocMX2Cj6v",
        "outputId": "82d709b4-1fca-4c58-887f-e0f531c32d6b"
      },
      "execution_count": null,
      "outputs": [
        {
          "output_type": "stream",
          "name": "stdout",
          "text": [
            "Sum of elements in (1, 2, 3) is: 6\n",
            "Sum of elements in (4, 5, 6) is: 15\n",
            "Sum of elements in (7, 8, 9) is: 24\n"
          ]
        }
      ]
    },
    {
      "cell_type": "code",
      "source": [
        "# given tupel of tuples:\n",
        "tuples = ((11,12,13),(14,15,16),(17,18,19))\n",
        "\n",
        "# Calculate and print the sum of elements in each inner tuple:\n",
        "for inner_tuple in tuples:\n",
        "# Usse sum() function to calculate the sum of element in each inner tuple:\n",
        "  inner_sum = sum(inner_tuple)\n",
        "  print(inner_sum, end = \", \")\n",
        "\n",
        "#output formatting -remove the trailing comma and space.\n",
        "print(\"\\b\\b\")"
      ],
      "metadata": {
        "colab": {
          "base_uri": "https://localhost:8080/"
        },
        "id": "fdDG1elrFlNP",
        "outputId": "b0397886-1aa5-479d-be74-3d8df32049bd"
      },
      "execution_count": null,
      "outputs": [
        {
          "output_type": "stream",
          "name": "stdout",
          "text": [
            "36, 45, 54, \b\b\n"
          ]
        }
      ]
    },
    {
      "cell_type": "markdown",
      "source": [
        "### 09) Create a list containing the **10 numbers**. Print the first **Three Prime numbers** from the **list**.\n",
        "   * **Expected Ouput:** List of the first three prime numbers:[2, 3,5]"
      ],
      "metadata": {
        "id": "yYoFVts6HHnM"
      }
    },
    {
      "cell_type": "code",
      "source": [
        "def is_prime(number):\n",
        "  # Function to check if a number is  prime\n",
        "  if number < 2:\n",
        "    return False\n",
        "  for i in range(2, int(number **0.5)+ 1):\n",
        "      if number % i == 0:\n",
        "        return False\n",
        "  return True\n",
        "\n",
        "# Create a list containing the first 10 numbers\n",
        "numbers_list = list(range(11,21))\n",
        "\n",
        "# Filter the list to get the first three prime numbers\n",
        "prime_numbers = [num for num in numbers_list if is_prime(num)][:3]\n",
        "\n",
        "# Print the first three prime numbers\n",
        "print(\"List of the first three prime numbers:\", prime_numbers)"
      ],
      "metadata": {
        "colab": {
          "base_uri": "https://localhost:8080/"
        },
        "id": "mV4yfOHb_Nee",
        "outputId": "33720f90-fe80-4a9e-c789-c2fa086eff7a"
      },
      "execution_count": null,
      "outputs": [
        {
          "output_type": "stream",
          "name": "stdout",
          "text": [
            "List of the first three prime numbers: [11, 13, 17]\n"
          ]
        }
      ]
    },
    {
      "cell_type": "markdown",
      "source": [
        "### 10) Given a lsit of dictionaries representing **student's information  (name, age, grade)**. Write a python program to **sort** the **students** based on their **grades** in **decending order** and print the sorted list.\n",
        "Dictionary:[\n",
        "  {\"name\": \"johan\", \"age\": 20, \"grade\": 85},\n",
        "  {\"name\": \"Alice\", \"age\": 22, \"grade\": 90},\n",
        "  {\"name\": \"Bob\", \"age\": 21, \"grade\": 80}\n",
        "]"
      ],
      "metadata": {
        "id": "xgiZZxyaKjtc"
      }
    },
    {
      "cell_type": "code",
      "source": [
        "# Given list of dictionaries representing student's information:\n",
        "students_info = [\n",
        "    {\"Name\": \"Bilal\", \"age\": 25, \"CGPA\": 2.2},\n",
        "\n",
        "    {\"Name\": \"Saadat\", \"age\": 23, \"CGPA\": 3.0},\n",
        "\n",
        "    {\"Name\": \"Mavia \", \"age\": 24, \"CGPA\": 3.04},\n",
        "\n",
        "    {\"Name\": \"Usama\", \"age\": 24, \"CGPA\": 3.04},\n",
        "\n",
        "    {\"Name\": \"Awais\", \"age\": 27, \"CGPA\": 2.5},\n",
        "\n",
        "    {\"Name\": \"Idris\", \"age\": 28, \"CGPA\": 3.02}\n",
        "\n",
        "]\n",
        "\n",
        "# Sort the list of dictionaries based on the \"CGPA\" key in descending order\n",
        "sorted_students = sorted(students_info, key = lambda x: x[\"CGPA\"],reverse = True)\n",
        "\n",
        "# print the sorted list\n",
        "print(\"Sorted list based on CGPA in descending order: \")\n",
        "for students in sorted_students:\n",
        "  print(students)\n"
      ],
      "metadata": {
        "id": "kA4f05fnSw-b",
        "colab": {
          "base_uri": "https://localhost:8080/"
        },
        "outputId": "82e4512c-9d82-4701-8545-1ca4250a5200"
      },
      "execution_count": null,
      "outputs": [
        {
          "output_type": "stream",
          "name": "stdout",
          "text": [
            "Sorted list based on CGPA in descending order: \n",
            "{'Name': 'Mavia ', 'age': 24, 'CGPA': 3.04}\n",
            "{'Name': 'Usama', 'age': 24, 'CGPA': 3.04}\n",
            "{'Name': 'Idris', 'age': 28, 'CGPA': 3.02}\n",
            "{'Name': 'Saadat', 'age': 23, 'CGPA': 3.0}\n",
            "{'Name': 'Awais', 'age': 27, 'CGPA': 2.5}\n",
            "{'Name': 'Bilal', 'age': 25, 'CGPA': 2.2}\n"
          ]
        }
      ]
    },
    {
      "cell_type": "markdown",
      "source": [
        "### 11) Create a program that takes a **list of nultiple numbers** separated with **commas(,)** form the user and finds the **total number** of **unique values** in the **list** and also **prints** them.\n",
        "* **Expeted_format:**\n",
        "* Total number of unique values: 6\n",
        "* Unique values in the list: [1, 2, 3, 4, 5,6]"
      ],
      "metadata": {
        "id": "cKhskMN-seGb"
      }
    },
    {
      "cell_type": "code",
      "source": [
        "# Take input form the user:\n",
        "input_numbers = input(\"Enter a list of multiple numbers seprated by commas:\")\n",
        "\n",
        "# Split the input string into a list of string:\n",
        "numbers_list = input_numbers.split(\",\")\n",
        "\n",
        "# Convet the list of strings to a list of integers\n",
        "numbers_list = [int (num) for num in numbers_list]\n",
        "\n",
        "# Find the total number of unique values and the unique values:\n",
        "total_num_unique_values = len (set(numbers_list))\n",
        "num_unique_values = list(set(numbers_list))\n",
        "\n",
        "# print the results\n",
        "print(\"\\n Total Number of Unique Values:\", total_num_unique_values)\n",
        "print(\"Unique Values in the list:\", num_unique_values)\n"
      ],
      "metadata": {
        "colab": {
          "base_uri": "https://localhost:8080/"
        },
        "id": "wgGlcGMHtVNr",
        "outputId": "22b1582c-3013-476b-8bee-ef3453c4a5f6"
      },
      "execution_count": null,
      "outputs": [
        {
          "output_type": "stream",
          "name": "stdout",
          "text": [
            "Enter a list of multiple numbers seprated by commas:12,34,33\n",
            "\n",
            " Total Number of Unique Values: 3\n",
            "Unique Values in the list: [33, 34, 12]\n"
          ]
        }
      ]
    },
    {
      "cell_type": "markdown",
      "source": [
        "### 12) Write a program that takes **two lists** as inputand returns a **new list** containing elements that are **common** ot **both lists.** (Hint: Use list methods to implement this.)\n",
        "**Input Lists:**\n",
        "* List 1: [1, 2, 3, 4, 5]\n",
        "* List 2: [4, 5, 6, 7, 8]\n",
        "* Common Elements:[4, 5]\n"
      ],
      "metadata": {
        "id": "e_QaKDhNxQ4K"
      }
    },
    {
      "cell_type": "code",
      "source": [
        "list1 = [1, 2, 3, 4, 5]\n",
        "list2 = [4, 5, 6, 7, 8]\n",
        "\n",
        "def find_common_elements(list1, list2):\n",
        "  # Use set intersection to find common elements:\n",
        "  common_elements = list(set(list1) & set(list2))\n",
        "  return common_elements\n",
        "\n",
        "print(\"Common elements in both lists are: \")\n",
        "common_elements = find_common_elements(list1, list2)\n",
        "print(common_elements)\n"
      ],
      "metadata": {
        "colab": {
          "base_uri": "https://localhost:8080/"
        },
        "id": "BnzdbkCiu9Gy",
        "outputId": "24a3e028-d0cf-4914-acc9-6b213b271519"
      },
      "execution_count": null,
      "outputs": [
        {
          "output_type": "stream",
          "name": "stdout",
          "text": [
            "Common elements in both lists are: \n",
            "[4, 5]\n"
          ]
        }
      ]
    },
    {
      "cell_type": "code",
      "source": [
        "# Take input from user and convert it into lists\n",
        "list1 = input(\"Enter list1 elements separated by commas: \").split(',')\n",
        "list2 = input(\"Enter list2 elements separated by commas: \").split(',')\n",
        "\n",
        "def find_common_elements(list1, list2):\n",
        "    # Convert lists to sets and find the intersection\n",
        "    common_elements = set(list1).intersection(set(list2))\n",
        "    return list(common_elements)  # Return the result as a list\n",
        "\n",
        "# Find and print the common elements\n",
        "print(\"Common elements in both lists are: \")\n",
        "common_elements = find_common_elements(list1, list2)\n",
        "print(common_elements)\n"
      ],
      "metadata": {
        "colab": {
          "base_uri": "https://localhost:8080/"
        },
        "id": "SP3vy-0z0vVh",
        "outputId": "b23354b7-b3f6-4f6e-ea15-3c0c7777ada0"
      },
      "execution_count": null,
      "outputs": [
        {
          "output_type": "stream",
          "name": "stdout",
          "text": [
            "Enter list1 elements separated by commas: 12,12,34,34,35\n",
            "Enter list2 elements separated by commas: 12,34,45,55\n",
            "Common elements in both lists are: \n",
            "['12', '34']\n"
          ]
        }
      ]
    },
    {
      "cell_type": "markdown",
      "source": [
        "### 13) Write a program that takes **two dictionaries** as input and **merges** them into a **new dictionary**. If there are **common keys, combine** their **values.**\n",
        "* dic1 = { 'a':5, 'b':20, 'c': 15}\n",
        "* dic2 = { 'b':20, 'c': 25, 'd':30}\n",
        "* **output:**{ 'a':5, 'b':30 'c':40,'d':30}"
      ],
      "metadata": {
        "id": "D1kDrr3MXOjo"
      }
    },
    {
      "cell_type": "code",
      "source": [
        "def merge_dictionaries(dict1, dict2):\n",
        "    merged_dict = dict1.copy()\n",
        "\n",
        "    for key, value in dict2.items():\n",
        "        if key in merged_dict:\n",
        "            # If the key is common combine the values\n",
        "            merged_dict[key] += value\n",
        "        else:\n",
        "            # If the key is not in the first dictionary, add it with its value\n",
        "            merged_dict[key] = value\n",
        "\n",
        "    return merged_dict\n",
        "\n",
        "# Dictionaries\n",
        "dict1 = {'a':5, \"b\":20, \"c\":15}\n",
        "dict2 = {'b':20, \"c\":25, \"d\":40, \"e\":50}\n",
        "\n",
        "# Print Two  dictionaries before merging\n",
        "print(\"Dictionary 1 : \", dict1)\n",
        "print(\"Dictionary 2 : \", dict2)\n",
        "\n",
        "# Merge the dictionaries\n",
        "result_dict = merge_dictionaries(dict1, dict2)\n",
        "\n",
        "# Print the result\n",
        "print(\"The Merged Dictionary is : \", result_dict)"
      ],
      "metadata": {
        "colab": {
          "base_uri": "https://localhost:8080/"
        },
        "id": "Q2OgWJWRyx-x",
        "outputId": "484778b1-58d2-4738-a511-4b1105bd20cf"
      },
      "execution_count": 4,
      "outputs": [
        {
          "output_type": "stream",
          "name": "stdout",
          "text": [
            "Dictionary 1 :  {'a': 5, 'b': 20, 'c': 15}\n",
            "Dictionary 2 :  {'b': 20, 'c': 25, 'd': 40, 'e': 50}\n",
            "The Merged Dictionary is :  {'a': 5, 'b': 40, 'c': 40, 'd': 40, 'e': 50}\n"
          ]
        }
      ]
    },
    {
      "cell_type": "code",
      "source": [
        "# Function to take dictionary input form the user\n",
        "def input_dictionary():\n",
        "  user_input = input(\"Enter dictionary elements (e.g., a:5, b:10) \")\n",
        "  # split the input string into key-value paris\n",
        "  items = user_input.split(',')\n",
        "  # Create a dictionary by spliting each pair and converting the value to int\n",
        "  result_dict = { item.split(':')[0]: int(item .split(':')[1]) for item in items}\n",
        "  return result_dict\n",
        "\n",
        "# Function to merge two dictionaries\n",
        "def merge_dictionaries(dict1, dict2):\n",
        "    merged_dict = dict1.copy()\n",
        "\n",
        "    for key, value in dict2.items():\n",
        "        if key in merged_dict:\n",
        "            # If the key is common, combine the values\n",
        "            merged_dict[key] += value\n",
        "        else:\n",
        "            # If the key is not in the first dictionary, add it with its value\n",
        "            merged_dict[key] = value\n",
        "\n",
        "    return merged_dict\n",
        "\n",
        "# Input two dictionaries from the user\n",
        "print(\"Enter the first dictionary:\")\n",
        "dict1 = input_dictionary()\n",
        "\n",
        "print(\"Enter the second dictionary:\")\n",
        "dict2 = input_dictionary()\n",
        "\n",
        "# Print the two dictionaries before merging\n",
        "print('Dictionary 1:', dict1)\n",
        "print('Dictionary 2:', dict2)\n",
        "\n",
        "# Merge the dictionaries\n",
        "result_dict = merge_dictionaries(dict1, dict2)\n",
        "\n",
        "# Print the result\n",
        "print('Merged Dictionary:', result_dict)\n",
        "\n",
        "\n",
        ""
      ],
      "metadata": {
        "colab": {
          "base_uri": "https://localhost:8080/"
        },
        "id": "Z6eJPmAPbIFr",
        "outputId": "3f1f46cf-be80-4680-eed5-4696b0d9920e"
      },
      "execution_count": 1,
      "outputs": [
        {
          "output_type": "stream",
          "name": "stdout",
          "text": [
            "Enter the first dictionary:\n",
            "Enter dictionary elements (e.g., a:5, b:10) a:10, b:20\n",
            "Enter the second dictionary:\n",
            "Enter dictionary elements (e.g., a:5, b:10) b:20, c:40\n",
            "Dictionary 1: {'a': 10, ' b': 20}\n",
            "Dictionary 2: {'b': 20, ' c': 40}\n",
            "Merged Dictionary: {'a': 10, ' b': 20, 'b': 20, ' c': 40}\n"
          ]
        }
      ]
    },
    {
      "cell_type": "code",
      "source": [
        "# Function to take dictionary input from the user\n",
        "def input_dictionary():\n",
        "    user_input = input(\"Enter dictionary elements (e.g., a:5,b:10): \")\n",
        "    # Split the input string into key-value pairs\n",
        "    items = user_input.split(',')\n",
        "    # Create a dictionary by splitting each pair, stripping spaces, and converting values to int\n",
        "    result_dict = {item.split(':')[0].strip(): int(item.split(':')[1].strip()) for item in items}\n",
        "    return result_dict\n",
        "\n",
        "# Function to merge two dictionaries\n",
        "def merge_dictionaries(dict1, dict2):\n",
        "    merged_dict = dict1.copy()\n",
        "\n",
        "    for key, value in dict2.items():\n",
        "        if key in merged_dict:\n",
        "            # If the key is common, combine the values\n",
        "            merged_dict[key] += value\n",
        "        else:\n",
        "            # If the key is not in the first dictionary, add it with its value\n",
        "            merged_dict[key] = value\n",
        "\n",
        "    return merged_dict\n",
        "\n",
        "# Input two dictionaries from the user\n",
        "print(\"Enter the first dictionary:\")\n",
        "dict1 = input_dictionary()\n",
        "\n",
        "print(\"Enter the second dictionary:\")\n",
        "dict2 = input_dictionary()\n",
        "\n",
        "# Print the two dictionaries before merging\n",
        "print('Dictionary 1:', dict1)\n",
        "print('Dictionary 2:', dict2)\n",
        "\n",
        "# Merge the dictionaries\n",
        "result_dict = merge_dictionaries(dict1, dict2)\n",
        "\n",
        "# Print the result\n",
        "print('Merged Dictionary:', result_dict)\n"
      ],
      "metadata": {
        "colab": {
          "base_uri": "https://localhost:8080/"
        },
        "id": "zg7vpH9GgIS4",
        "outputId": "edcc1b13-b61b-4432-b8f6-119c1c1e63cd"
      },
      "execution_count": 5,
      "outputs": [
        {
          "output_type": "stream",
          "name": "stdout",
          "text": [
            "Enter the first dictionary:\n",
            "Enter dictionary elements (e.g., a:5,b:10): a:20, b:30, c:40\n",
            "Enter the second dictionary:\n",
            "Enter dictionary elements (e.g., a:5,b:10): b:40, d:50, e:60\n",
            "Dictionary 1: {'a': 20, 'b': 30, 'c': 40}\n",
            "Dictionary 2: {'b': 40, 'd': 50, 'e': 60}\n",
            "Merged Dictionary: {'a': 20, 'b': 70, 'c': 40, 'd': 50, 'e': 60}\n"
          ]
        }
      ]
    },
    {
      "cell_type": "markdown",
      "source": [
        "### 14) Write a program that takes **two numbters, base** and **exponent,** and **calculates** the **result** if raising **base** to the **power of exponent** using the ****operator.**\n",
        " * **Input Base:** 2\n",
        " * **Exponent:** 3\n",
        " * **Result:** 8\n",
        ""
      ],
      "metadata": {
        "id": "zx2DXL-rAdHM"
      }
    },
    {
      "cell_type": "code",
      "source": [
        "base = float(input(\"Enter the Base: \"))\n",
        "exponents = float(input(\"Enter the Exponent: \"))\n",
        "\n",
        "# Calculate the result using the ** operator\n",
        "result = base ** exponents\n",
        "\n",
        "# print the result\n",
        "print(\"The result of {} raised to the power{} is equal to:{:.2f}\".format(base,exponents, result))\n"
      ],
      "metadata": {
        "colab": {
          "base_uri": "https://localhost:8080/"
        },
        "id": "Hl20gT_fBKWD",
        "outputId": "aa837b85-5dc0-446b-8afb-077bd2f29441"
      },
      "execution_count": 9,
      "outputs": [
        {
          "output_type": "stream",
          "name": "stdout",
          "text": [
            "Enter the Base: 21\n",
            "Enter the Exponent: 2\n",
            "The result of 21.0 raised to the power2.0 is equal to:441.00\n"
          ]
        }
      ]
    },
    {
      "cell_type": "markdown",
      "source": [
        "### 15) Write a program that takes a **temperture** in **Celcisus** as **input** and **convets** it to **Fahrenheit** using the **formula.**\n",
        "  * **Fahrenheit** = **((Celsius * 9/5) + 32.**"
      ],
      "metadata": {
        "id": "3NnsMFNzD-aX"
      }
    },
    {
      "cell_type": "code",
      "source": [
        "Celsius_temperture = float(input(\"Enter Temperture in Celsius: \"))\n",
        "\n",
        "# Calculate Celsius into Fahrenheit\n",
        "Fahrenheit_temperture = ((Celsius_temperture * 9/5) + 32)\n",
        "\n",
        "# print the result\n",
        "print(\"{} degree Celsius is equal to{:.2f} degrees Fahrenheit. \".format(Celsius_temperture, Fahrenheit_temperture))"
      ],
      "metadata": {
        "colab": {
          "base_uri": "https://localhost:8080/"
        },
        "id": "2E3dV30lBUAI",
        "outputId": "6adb56c6-9497-4fbf-cf5e-a1c4de04299d"
      },
      "execution_count": 11,
      "outputs": [
        {
          "output_type": "stream",
          "name": "stdout",
          "text": [
            "Enter Temperture in Celsius: 12\n",
            "12.0 degree Celsius is equal to53.60 degrees Fahrenheit. \n"
          ]
        }
      ]
    },
    {
      "cell_type": "markdown",
      "source": [
        "### 16) Write a python program to **reverse** a **list** without using **built-in function.**\n"
      ],
      "metadata": {
        "id": "aJaNkge5HpmD"
      }
    },
    {
      "cell_type": "code",
      "source": [
        "def reverse_list(input_list):\n",
        "  # Get the lenght of the list\n",
        "  list_length = len(input_list)\n",
        "\n",
        "  # Iterate over the first half of the list\n",
        "  for i in range(list_length // 2):\n",
        "    # Swap elements form the begining with elements from the end.\n",
        "    input_list[i], input_list[list_length - i -1] = input_list[list_length -i -1], input_list[i]\n",
        "\n",
        "# Take input form the user:\n",
        "user_input = input(\"Enter a list of elements seprated by commas: \")\n",
        "original_list = [int(x) for x in user_input.split(',')]\n",
        "\n",
        "# print Original list is:\n",
        "print(\"The Original list is: \", original_list)\n",
        "\n",
        "# Reverse the list\n",
        "reverse_list(original_list)\n",
        "print(\"The reversed list is: \", original_list)"
      ],
      "metadata": {
        "colab": {
          "base_uri": "https://localhost:8080/"
        },
        "id": "_nYMvtTaF8FB",
        "outputId": "a6e8cd37-ca4d-4fa6-f4ef-614bc46d89f5"
      },
      "execution_count": 13,
      "outputs": [
        {
          "output_type": "stream",
          "name": "stdout",
          "text": [
            "Enter a list of elements seprated by commas: 12,24,34,55,54\n",
            "The Original list is:  [12, 24, 34, 55, 54]\n",
            "The reversed list is:  [54, 55, 34, 24, 12]\n"
          ]
        }
      ]
    },
    {
      "cell_type": "markdown",
      "source": [
        "### 17) Given a string **\"Hello World\"** , write a python program to **reverse** the string without **reversing** the **individual words.**"
      ],
      "metadata": {
        "id": "Mc256B5ROcBI"
      }
    },
    {
      "cell_type": "code",
      "source": [
        "def reverse_word(word_str):\n",
        "  # Split the string into words\n",
        "  words = word_str.split()\n",
        "\n",
        "  # Reverse the order of the words\n",
        "  reversed_string = \" \".join(reversed(words))\n",
        "\n",
        "  return reversed_string\n",
        "\n",
        "  # given string\n",
        "word_str = \"Hello Python \"\n",
        "  # Reverse the order of words and print the result\n",
        "result = reverse_word(word_str)\n",
        "print(\"Reversed string without reversing individual words: \", result)"
      ],
      "metadata": {
        "id": "_vYcEJ6cKz3p"
      },
      "execution_count": null,
      "outputs": []
    },
    {
      "cell_type": "markdown",
      "source": [
        "### 18) Implement a python function **is_palindrome()** that **checks** whether a **passed string** is a **palindrome** (reads the same forward and backward) and tests it with **\"radar\"**"
      ],
      "metadata": {
        "id": "CwShx2OpPvM3"
      }
    },
    {
      "cell_type": "code",
      "source": [
        "def is_palindrome(pal_str):\n",
        "  # Convert the string to lowercase to make the comparison case-insensitive\n",
        "  pal_str = pal_str.lower()\n",
        "\n",
        "  # Remove non_alpha numeric character form the string\n",
        "  alnum_chars = ''.join(c for c in pal_str if c.isalnum())\n",
        "\n",
        "  # Compare the original string with its reverse\n",
        "  return pal_str == pal_str[::-1]\n",
        "\n",
        "# Test the function with the string \"radar\"\n",
        "test_string = \"radar\"\n",
        "if is_palindrome(test_string):\n",
        "  print(f'\"{test_string}\" is a palindrome')\n",
        "else:\n",
        "  print(f'\"{test_string}\" is not a palindrome')"
      ],
      "metadata": {
        "colab": {
          "base_uri": "https://localhost:8080/"
        },
        "id": "-mkoBcKtQUYN",
        "outputId": "9b52a249-6ed9-43dc-a1ac-a3a0f2629ef9"
      },
      "execution_count": 2,
      "outputs": [
        {
          "output_type": "stream",
          "name": "stdout",
          "text": [
            "\"radar\" is a palindrome\n"
          ]
        }
      ]
    },
    {
      "cell_type": "markdown",
      "source": [
        "### 19) Write a program that **returns** a **list** of **even numbers** from a **given list.**"
      ],
      "metadata": {
        "id": "_U9r4cl3SLyA"
      }
    },
    {
      "cell_type": "code",
      "source": [
        "def get_even_numbers(sample_list):\n",
        "    even_numbers = [num for num in sample_list if num % 2 == 0]\n",
        "    return even_numbers\n",
        "\n",
        "  # Sample list\n",
        "sample_list = [2, 5, 7, 3, 89, 83,34, 45,32, 24, 26]\n",
        "\n",
        "  # get and print the list of even numbers:\n",
        "even_numbers_list = get_even_numbers(sample_list)\n",
        "\n",
        "print(\"List of numbers: \", sample_list)\n",
        "print(\"List of even numbers: \", even_numbers_list)\n",
        "\n",
        "\n"
      ],
      "metadata": {
        "colab": {
          "base_uri": "https://localhost:8080/"
        },
        "id": "-043vtUwRrv4",
        "outputId": "ff1eabe5-b85e-447b-ab4f-ef23b50ba529"
      },
      "execution_count": 6,
      "outputs": [
        {
          "output_type": "stream",
          "name": "stdout",
          "text": [
            "List of numbers:  [2, 5, 7, 3, 89, 83, 34, 45, 32, 24, 26]\n",
            "List of even numbers:  [2, 34, 32, 24, 26]\n"
          ]
        }
      ]
    },
    {
      "cell_type": "markdown",
      "source": [
        "### 20) Given **two lists Keys =**['a', 'b', 'c'] and **values** = [1,2,3], write a pyton program to **create** a **dictionary** form these **lists.**\n"
      ],
      "metadata": {
        "id": "k1Z-aGiBl8Tn"
      }
    },
    {
      "cell_type": "code",
      "source": [
        "# given lists\n",
        "keys = [ \"a\", \"b\", \"c\"]\n",
        "values = [34, 45, 31]\n",
        "\n",
        "# Create a dictionary using zip function\n",
        "result_dictionary = dict(zip(keys, values))\n",
        "\n",
        "# print the given lists & result dictionary:\n",
        "print(\"keys of list:\", keys)\n",
        "print(\"values of list: \", values)\n",
        "print(\"Resulted Dictionary using zip(): \", result_dictionary)"
      ],
      "metadata": {
        "colab": {
          "base_uri": "https://localhost:8080/"
        },
        "id": "HzGvkVmpmjK7",
        "outputId": "5def3e9c-7631-4b35-c39f-a775b7578d22"
      },
      "execution_count": 8,
      "outputs": [
        {
          "output_type": "stream",
          "name": "stdout",
          "text": [
            "keys of list: ['a', 'b', 'c']\n",
            "values of list:  [34, 45, 31]\n",
            "Resulted Dictionary using zip():  {'a': 34, 'b': 45, 'c': 31}\n"
          ]
        }
      ]
    }
  ]
}